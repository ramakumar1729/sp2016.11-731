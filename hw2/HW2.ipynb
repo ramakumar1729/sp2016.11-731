{
 "cells": [
  {
   "cell_type": "code",
   "execution_count": 81,
   "metadata": {
    "collapsed": false
   },
   "outputs": [
    {
     "name": "stdout",
     "output_type": "stream",
     "text": [
      "predicting, classification error=0.280141\n",
      "predicting, classification accuracy=0.719859\n"
     ]
    }
   ],
   "source": [
    "#! /usr/bin/python\n",
    "import numpy as np\n",
    "import xgboost as xgb\n",
    "\n",
    "\n",
    "trainData = '/Users/rpasumar/Desktop/CMU/11-731/sp2016.11-731/hw2/data/all.data.libsvm.train'\n",
    "bigTrainData = '/Users/rpasumar/Desktop/CMU/11-731/sp2016.11-731/hw2/data/all.data.libsvm'\n",
    "testData = '/Users/rpasumar/Desktop/CMU/11-731/sp2016.11-731/hw2/data/all.data.libsvm.test'\n",
    "xg_train = xgb.DMatrix( trainData)\n",
    "xg_test = xgb.DMatrix(testData)\n",
    "xg_btrain = xgb.DMatrix(bigTrainData)\n",
    "# setup parameters for xgboost\n",
    "param = {}\n",
    "# use softmax multi-class classification\n",
    "param['objective'] = 'multi:softmax'\n",
    "# scale weight of positive examples\n",
    "param['eta'] = 0.1\n",
    "param['max_depth'] = 3\n",
    "param['silent'] = 1\n",
    "param['nthread'] = 8\n",
    "param['num_class'] = 3\n",
    "test_Y = list(xg_test.get_label())\n",
    "watchlist = [ (xg_btrain,'train'), (xg_test, 'test') ]\n",
    "num_round = 1500\n",
    "\n",
    "bst = xgb.train(param, xg_btrain, num_round, watchlist );\n",
    "# get prediction\n",
    "pred = bst.predict( xg_test );\n",
    "\n",
    "print ('predicting, classification error=%f' % (sum( int(pred[i]) != test_Y[i] for i in range(len(test_Y))) / float(len(test_Y)) ))\n",
    "\n",
    "print ('predicting, classification accuracy=%f' % (sum( int(pred[i]) == test_Y[i] for i in range(len(test_Y))) / float(len(test_Y)) ))"
   ]
  },
  {
   "cell_type": "code",
   "execution_count": 82,
   "metadata": {
    "collapsed": true
   },
   "outputs": [],
   "source": [
    "# features.embedding.final 2\n",
    "# features.f1 1\n",
    "#features.lm 3\n",
    "#features.lm2.l 3\n",
    "#features.parse 2\n",
    "#features.pos 1\n",
    "#features.embedding.inv 2\n",
    "#features.embedding.inv.norm 2"
   ]
  },
  {
   "cell_type": "code",
   "execution_count": 83,
   "metadata": {
    "collapsed": false
   },
   "outputs": [],
   "source": [
    "allData = '/Users/rpasumar/Desktop/CMU/11-731/sp2016.11-731/hw2/data/features.all.libsvm'\n",
    "xg_alldata = xgb.DMatrix(allData)\n",
    "pred_all = bst.predict(xg_alldata)\n",
    "with open('/Users/rpasumar/Desktop/CMU/11-731/sp2016.11-731/hw2/output.xgb.txt','w') as f:\n",
    "    f.write('\\n'.join([str(x) if x != 2 else str(-1) for x in pred_all ]))\n",
    "          "
   ]
  },
  {
   "cell_type": "code",
   "execution_count": 75,
   "metadata": {
    "collapsed": false
   },
   "outputs": [
    {
     "name": "stdout",
     "output_type": "stream",
     "text": [
      "0.371923483039\n"
     ]
    }
   ],
   "source": [
    "\n",
    "print random.random()"
   ]
  },
  {
   "cell_type": "raw",
   "metadata": {},
   "source": [
    "pred_all[1]"
   ]
  },
  {
   "cell_type": "code",
   "execution_count": null,
   "metadata": {
    "collapsed": true
   },
   "outputs": [],
   "source": [
    "\n",
    "# do the same thing again, but output probabilities\n",
    "param['objective'] = 'multi:softprob'\n",
    "bst = xgb.train(param, xg_train, num_round, watchlist );\n",
    "# Note: this convention has been changed since xgboost-unity\n",
    "# get prediction, this is in 1D array, need reshape to (ndata, nclass)\n",
    "yprob = bst.predict( xg_test ).reshape( test_Y.shape[0], 6 )\n",
    "ylabel = np.argmax(yprob, axis=1)\n",
    "\n",
    "print ('predicting, classification error=%f' % (sum( int(ylabel[i]) != test_Y[i] for i in range(len(test_Y))) / float(len(test_Y)) ))\n"
   ]
  },
  {
   "cell_type": "code",
   "execution_count": 56,
   "metadata": {
    "collapsed": false
   },
   "outputs": [
    {
     "name": "stdout",
     "output_type": "stream",
     "text": [
      "1457066405.71\n"
     ]
    }
   ],
   "source": [
    "import time\n",
    "print time.time()"
   ]
  },
  {
   "cell_type": "code",
   "execution_count": 9,
   "metadata": {
    "collapsed": false
   },
   "outputs": [
    {
     "name": "stdout",
     "output_type": "stream",
     "text": [
      "predicting, classification error=0.470542\n"
     ]
    }
   ],
   "source": [
    "print ('predicting, classification error=%f' % (sum( int(pred[i]) != test_Y[i] for i in range(len(test_Y))) / float(len(test_Y)) ))\n"
   ]
  },
  {
   "cell_type": "code",
   "execution_count": 37,
   "metadata": {
    "collapsed": false
   },
   "outputs": [],
   "source": [
    "x = bst.get_fscore()"
   ]
  },
  {
   "cell_type": "code",
   "execution_count": 39,
   "metadata": {
    "collapsed": false
   },
   "outputs": [],
   "source": [
    "from collections import Counter\n",
    "c = Counter(x)\n",
    "\n"
   ]
  },
  {
   "cell_type": "code",
   "execution_count": 40,
   "metadata": {
    "collapsed": false
   },
   "outputs": [
    {
     "data": {
      "text/plain": [
       "[('f12', 18933),\n",
       " ('f3', 18552),\n",
       " ('f1', 13397),\n",
       " ('f15', 13246),\n",
       " ('f16', 12827),\n",
       " ('f2', 12746),\n",
       " ('f11', 11337),\n",
       " ('f10', 10969),\n",
       " ('f4', 9870),\n",
       " ('f5', 9370),\n",
       " ('f8', 7603),\n",
       " ('f7', 7480),\n",
       " ('f13', 7299),\n",
       " ('f14', 6908),\n",
       " ('f6', 4729),\n",
       " ('f9', 4110)]"
      ]
     },
     "execution_count": 40,
     "metadata": {},
     "output_type": "execute_result"
    }
   ],
   "source": [
    "c.most_common()"
   ]
  },
  {
   "cell_type": "code",
   "execution_count": 41,
   "metadata": {
    "collapsed": true
   },
   "outputs": [],
   "source": [
    "for k in c.keys():\n",
    "    c[k] = c[k]/float(18933)"
   ]
  },
  {
   "cell_type": "code",
   "execution_count": 43,
   "metadata": {
    "collapsed": false
   },
   "outputs": [
    {
     "data": {
      "text/plain": [
       "[('f12', 1.0),\n",
       " ('f3', 0.9798764062747584),\n",
       " ('f1', 0.707600485924048),\n",
       " ('f15', 0.6996249933977711),\n",
       " ('f16', 0.6774943220831353),\n",
       " ('f2', 0.6732160777478476),\n",
       " ('f11', 0.5987957534463635),\n",
       " ('f10', 0.5793587915280198),\n",
       " ('f4', 0.5213119949294882),\n",
       " ('f5', 0.4949030792795648),\n",
       " ('f8', 0.4015739713727354),\n",
       " ('f7', 0.39507737812285426),\n",
       " ('f13', 0.385517350657582),\n",
       " ('f14', 0.3648655786193419),\n",
       " ('f6', 0.24977552421697566),\n",
       " ('f9', 0.21708128664237047)]"
      ]
     },
     "execution_count": 43,
     "metadata": {},
     "output_type": "execute_result"
    }
   ],
   "source": [
    " c.most_common()"
   ]
  },
  {
   "cell_type": "code",
   "execution_count": null,
   "metadata": {
    "collapsed": true
   },
   "outputs": [],
   "source": []
  }
 ],
 "metadata": {
  "kernelspec": {
   "display_name": "Python 2",
   "language": "python",
   "name": "python2"
  },
  "language_info": {
   "codemirror_mode": {
    "name": "ipython",
    "version": 2
   },
   "file_extension": ".py",
   "mimetype": "text/x-python",
   "name": "python",
   "nbconvert_exporter": "python",
   "pygments_lexer": "ipython2",
   "version": "2.7.11"
  }
 },
 "nbformat": 4,
 "nbformat_minor": 0
}
