{
 "cells": [
  {
   "cell_type": "code",
   "execution_count": 81,
   "metadata": {
    "collapsed": false
   },
   "outputs": [
    {
     "name": "stdout",
     "output_type": "stream",
     "text": [
      "predicting, classification error=0.280141\n",
      "predicting, classification accuracy=0.719859\n"
     ]
    }
   ],
   "source": [
    "#! /usr/bin/python\n",
    "import numpy as np\n",
    "import xgboost as xgb\n",
    "\n",
    "\n",
    "trainData = '/Users/rpasumar/Desktop/CMU/11-731/sp2016.11-731/hw2/data/all.data.libsvm.train'\n",
    "bigTrainData = '/Users/rpasumar/Desktop/CMU/11-731/sp2016.11-731/hw2/data/all.data.libsvm'\n",
    "testData = '/Users/rpasumar/Desktop/CMU/11-731/sp2016.11-731/hw2/data/all.data.libsvm.test'\n",
    "xg_train = xgb.DMatrix( trainData)\n",
    "xg_test = xgb.DMatrix(testData)\n",
    "xg_btrain = xgb.DMatrix(bigTrainData)\n",
    "param = {}\n",
    "param['objective'] = 'multi:softmax'\n",
    "# scale weight of positive examples\n",
    "param['eta'] = 0.1\n",
    "param['max_depth'] = 3\n",
    "param['silent'] = 1\n",
    "param['nthread'] = 8\n",
    "param['num_class'] = 3\n",
    "test_y = list(xg_test.get_label())\n",
    "watchlist = [ (xg_btrain,'train'), (xg_test, 'test') ]\n",
    "# no. of trees built\n",
    "num_round = 1500\n",
    "\n",
    "bst = xgb.train(param, xg_btrain, num_round, watchlist );\n",
    "# get prediction\n",
    "pred = bst.predict( xg_test );\n",
    "\n",
    "print ('predicting, classification accuracy=%f' % (sum( int(pred[i]) == test_Y[i] for i in range(len(test_Y))) / float(len(test_Y)) ))"
   ]
  },
  {
   "cell_type": "code",
   "execution_count": 82,
   "metadata": {
    "collapsed": true
   },
   "outputs": [],
   "source": [
    "# features.embedding.final 2\n",
    "# features.f1 1\n",
    "#features.lm 3\n",
    "#features.lm2.l 3\n",
    "#features.parse 2\n",
    "#features.pos 1\n",
    "#features.embedding.inv 2\n",
    "#features.embedding.inv.norm 2"
   ]
  },
  {
   "cell_type": "code",
   "execution_count": 83,
   "metadata": {
    "collapsed": false
   },
   "outputs": [],
   "source": [
    "allData = '/Users/rpasumar/Desktop/CMU/11-731/sp2016.11-731/hw2/data/features.all.libsvm'\n",
    "xg_alldata = xgb.DMatrix(allData)\n",
    "pred_all = bst.predict(xg_alldata)\n",
    "with open('/Users/rpasumar/Desktop/CMU/11-731/sp2016.11-731/hw2/output.xgb.txt','w') as f:\n",
    "    f.write('\\n'.join([str(x) if x != 2 else str(-1) for x in pred_all ]))\n",
    "          "
   ]
  }
 ],
 "metadata": {
  "kernelspec": {
   "display_name": "Python 2",
   "language": "python",
   "name": "python2"
  },
  "language_info": {
   "codemirror_mode": {
    "name": "ipython",
    "version": 2
   },
   "file_extension": ".py",
   "mimetype": "text/x-python",
   "name": "python",
   "nbconvert_exporter": "python",
   "pygments_lexer": "ipython2",
   "version": "2.7.11"
  }
 },
 "nbformat": 4,
 "nbformat_minor": 0
}
